{
  "nbformat": 4,
  "nbformat_minor": 0,
  "metadata": {
    "colab": {
      "provenance": [],
      "authorship_tag": "ABX9TyNncFNh9/jwJIT4oJ6qpibT",
      "include_colab_link": true
    },
    "kernelspec": {
      "name": "python3",
      "display_name": "Python 3"
    },
    "language_info": {
      "name": "python"
    }
  },
  "cells": [
    {
      "cell_type": "markdown",
      "metadata": {
        "id": "view-in-github",
        "colab_type": "text"
      },
      "source": [
        "<a href=\"https://colab.research.google.com/github/10Zee/CAD-Project-/blob/main/model_ABMIL.ipynb\" target=\"_parent\"><img src=\"https://colab.research.google.com/assets/colab-badge.svg\" alt=\"Open In Colab\"/></a>"
      ]
    },
    {
      "cell_type": "code",
      "execution_count": null,
      "metadata": {
        "id": "9P_EEBudrbTx"
      },
      "outputs": [],
      "source": [
        "from timm import create_model\n",
        "from fastai.vision.all import *\n",
        "from torch import nn\n",
        "torch.backends.cudnn.benchmark = True\n",
        "\n",
        "\n",
        "class ABMIL_aggregate(nn.Module):\n",
        "\n",
        "    def __init__(self, nf, num_classes, pool_patches = 3, L = 128):\n",
        "        super(ABMIL_aggregate,self).__init__()\n",
        "        self.nf = nf\n",
        "        self.num_classes = num_classes # two for binary classification\n",
        "        self.pool_patches = pool_patches # how many patches to use in predicting instance label\n",
        "        self.L = L # number of latent attention features\n",
        "\n",
        "        self.saliency_layer = nn.Sequential(\n",
        "            nn.Conv2d( self.nf, self.num_classes, (1,1), bias = False),\n",
        "            nn.Sigmoid()\n",
        "        )\n",
        "\n",
        "        self.attention_V = nn.Sequential(\n",
        "            nn.Linear(self.nf, self.L),\n",
        "            nn.Tanh()\n",
        "        )\n",
        "\n",
        "        self.attention_U = nn.Sequential(\n",
        "            nn.Linear(self.nf, self.L),\n",
        "            nn.Sigmoid()\n",
        "        )\n",
        "\n",
        "        self.attention_W = nn.Sequential(\n",
        "            nn.Linear(self.L, self.num_classes),\n",
        "        )\n",
        "\n",
        "    def forward(self, h):\n",
        "        # input is a tensor with a bag of features, dim = bag_size x nf x h x w\n",
        "\n",
        "        h = h.permute(0, 3, 1, 2)  # Now h has shape [1, 512, 10, 64]\n",
        "\n",
        "        saliency_maps = self.saliency_layer(h)\n",
        "        map_flatten = saliency_maps.flatten(start_dim = -2, end_dim = -1)\n",
        "        selected_area = map_flatten.topk(self.pool_patches, dim=2)[0]\n",
        "        yhat_instance = selected_area.mean(dim=2).squeeze()\n",
        "\n",
        "        # gated-attention\n",
        "        v = torch.max( h, dim = 2).values # begin maxpool\n",
        "        v = torch.max( v, dim = 2).values # maxpool complete\n",
        "        A_V = self.attention_V(v)\n",
        "        A_U = self.attention_U(v)\n",
        "        attention_scores = nn.functional.softmax(\n",
        "            self.attention_W(A_V * A_U).squeeze(), dim = 0 )\n",
        "\n",
        "        # aggreate individual predictions to get bag prediciton\n",
        "        yhat_bag = (attention_scores * yhat_instance).sum(dim=0)\n",
        "\n",
        "        return yhat_bag, saliency_maps, yhat_instance, attention_scores"
      ]
    }
  ]
}